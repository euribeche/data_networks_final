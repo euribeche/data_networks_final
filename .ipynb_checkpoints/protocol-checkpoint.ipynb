{
 "cells": [
  {
   "cell_type": "code",
   "execution_count": null,
   "id": "dd6e9c64-39e6-4361-8163-a14f01ae3838",
   "metadata": {},
   "outputs": [],
   "source": [
    "pip install pycryptodome"
   ]
  },
  {
   "cell_type": "code",
   "execution_count": 102,
   "id": "02648efa-50b6-4268-9506-662af0546e06",
   "metadata": {},
   "outputs": [],
   "source": [
    "from Crypto.Cipher import AES, PKCS1_OAEP\n",
    "from Crypto.PublicKey import RSA\n",
    "from Crypto.Signature import pkcs1_15\n",
    "from Crypto.Hash import HMAC, SHA256\n",
    "from Crypto.Random import get_random_bytes"
   ]
  },
  {
   "cell_type": "markdown",
   "id": "f18e1314-83a2-4c53-8a86-e80e97207254",
   "metadata": {},
   "source": [
    "---"
   ]
  },
  {
   "cell_type": "markdown",
   "id": "988b6673-de03-4601-ae4f-eb9fd844d660",
   "metadata": {},
   "source": [
    "Digtal Signatures and verification"
   ]
  },
  {
   "cell_type": "code",
   "execution_count": 103,
   "id": "5ca0310e-293b-4e38-82ef-b2845aa6f7a0",
   "metadata": {},
   "outputs": [],
   "source": [
    "def sign_message(message, private_sig_key):\n",
    "    h = SHA256.new(message)\n",
    "    return pkcs1_15.new(private_sig_key).sign(h)"
   ]
  },
  {
   "cell_type": "code",
   "execution_count": 104,
   "id": "f1b2ba79-1cb1-4772-b8be-3eacfb9b3b31",
   "metadata": {},
   "outputs": [],
   "source": [
    "def verify_signature(message, signature, public_sig_key):\n",
    "    key = RSA.import_key(public_sig_key)\n",
    "    h = SHA256.new(message)\n",
    "    try:\n",
    "        pkcs1_15.new(key).verify(h, signature)\n",
    "        return True\n",
    "    except (ValueError, TypeError):\n",
    "        return False"
   ]
  },
  {
   "cell_type": "markdown",
   "id": "419cda34-42fb-438c-a7f5-c8cfdfba0042",
   "metadata": {},
   "source": [
    "Asymmetric Encryption using RSA key pairs"
   ]
  },
  {
   "cell_type": "code",
   "execution_count": 105,
   "id": "9814be83-9ac3-4a6e-8303-45ea044c18ca",
   "metadata": {},
   "outputs": [],
   "source": [
    "def aenc(message, public_key):\n",
    "    key = RSA.import_key(public_key)\n",
    "    cipher = PKCS1_OAEP.new(key)\n",
    "    return cipher.encrypt(message)"
   ]
  },
  {
   "cell_type": "code",
   "execution_count": 106,
   "id": "6f0ab022-220d-4c29-9376-bb1e136319cf",
   "metadata": {},
   "outputs": [],
   "source": [
    "def adec(ciphertext, private_key):\n",
    "    decipher = PKCS1_OAEP.new(private_key)\n",
    "    plaintext = decipher.decrypt(ciphertext)\n",
    "    return plaintext"
   ]
  },
  {
   "cell_type": "markdown",
   "id": "f4a1cafb-9e45-472e-94b3-3d55ba6452c5",
   "metadata": {},
   "source": [
    "Symmetric Encryption using AES"
   ]
  },
  {
   "cell_type": "code",
   "execution_count": 107,
   "id": "81280d43-da8d-44d2-a24f-fb0fa4cf2721",
   "metadata": {},
   "outputs": [],
   "source": [
    "def senc(message, session_key):\n",
    "    cipher_CTR = AES.new(session_key, AES.MODE_CTR)\n",
    "    ciphertext = cipher_CTR.encrypt(message)\n",
    "    return ciphertext, cipher_CTR.nonce"
   ]
  },
  {
   "cell_type": "code",
   "execution_count": 108,
   "id": "d853168a-2f6c-42da-bb19-418af541dead",
   "metadata": {},
   "outputs": [],
   "source": [
    "def sdec(ciphertext, session_key, nonce):\n",
    "    decipher_CTR = AES.new(session_key, AES.MODE_CTR, nonce=nonce)\n",
    "    plaintext = decipher_CTR.decrypt(ciphertext)\n",
    "    return plaintext.decode()"
   ]
  },
  {
   "cell_type": "markdown",
   "id": "7093e76a-68e7-4abf-9cb4-cd12308ba5b5",
   "metadata": {},
   "source": [
    "Hashes for data integrity"
   ]
  },
  {
   "cell_type": "code",
   "execution_count": 109,
   "id": "d08b485d-7e2a-49e1-9061-f3684269538b",
   "metadata": {},
   "outputs": [],
   "source": [
    "def calculate_hash(message, key):\n",
    "    h = HMAC.new(key, digestmod=SHA256)\n",
    "    h.update(message)\n",
    "    return h.hexdigest()"
   ]
  },
  {
   "cell_type": "markdown",
   "id": "48f256ac-495c-42a2-a337-61f75c8d0cfd",
   "metadata": {},
   "source": [
    "---"
   ]
  },
  {
   "cell_type": "code",
   "execution_count": 110,
   "id": "e82d1420-a33e-4b9e-8fa4-f1a4d80bb1e1",
   "metadata": {},
   "outputs": [],
   "source": [
    "class Phone:\n",
    "    private_sig_key = RSA.generate(1024)\n",
    "    public_sig_key = private_sig_key.public_key().export_key()\n",
    "    private_key = RSA.generate(1024)\n",
    "    public_key = private_key.public_key().export_key()"
   ]
  },
  {
   "cell_type": "code",
   "execution_count": 111,
   "id": "5f815e90-83d5-4206-a32a-fe594fd06ad0",
   "metadata": {},
   "outputs": [],
   "source": [
    "class Server:\n",
    "    private_sig_key = RSA.generate(1024)\n",
    "    public_sig_key = private_sig_key.public_key().export_key()\n",
    "    private_key = RSA.generate(1024)\n",
    "    public_key = private_key.public_key().export_key()\n",
    "\n",
    "    @classmethod\n",
    "    def set_secret_key_IoT(cls, value):\n",
    "        cls.secret_key_IoT = value"
   ]
  },
  {
   "cell_type": "code",
   "execution_count": 112,
   "id": "b9cfec26-5eef-4f17-9946-dd76c9d3ca51",
   "metadata": {},
   "outputs": [],
   "source": [
    "class IoT_Device:\n",
    "    private_sig_key = RSA.generate(1024)\n",
    "    public_sig_key = private_sig_key.public_key().export_key()\n",
    "    private_key = RSA.generate(1024)\n",
    "    public_key = private_key.public_key().export_key()\n",
    "\n",
    "    @classmethod\n",
    "    def set_secret_key_IoT(cls, value):\n",
    "        cls.secret_key_IoT = value"
   ]
  },
  {
   "cell_type": "code",
   "execution_count": 113,
   "id": "577829b1-e465-4a4d-9a92-8890bcef8e93",
   "metadata": {},
   "outputs": [],
   "source": [
    "preshared_key = get_random_bytes(16) # preshared key\n",
    "IoT_Device.set_secret_key_IoT(preshared_key)\n",
    "Server.set_secret_key_IoT(preshared_key)"
   ]
  },
  {
   "cell_type": "markdown",
   "id": "4326ff50-1356-4770-a886-32b8fbfe5431",
   "metadata": {},
   "source": [
    "---"
   ]
  },
  {
   "cell_type": "code",
   "execution_count": 114,
   "id": "141dc02d-fba0-48dc-b803-9d1424707ed2",
   "metadata": {},
   "outputs": [],
   "source": [
    "server_accepts_phone = False\n",
    "server_terminates_phone = True\n",
    "phone_accepts = False\n",
    "phone_terminates = False"
   ]
  },
  {
   "cell_type": "code",
   "execution_count": 115,
   "id": "b5a6166d-1234-4ab9-8dca-24d4a5def7b4",
   "metadata": {},
   "outputs": [],
   "source": [
    "pk_Phone = Phone.public_key\n",
    "spk_Phone = Phone.public_sig_key\n",
    "pk_Server = Server.public_key\n",
    "spk_Server = Server.public_sig_key"
   ]
  },
  {
   "cell_type": "code",
   "execution_count": 116,
   "id": "a8af24db-2f7c-467c-8ce6-9fb4ac4824c4",
   "metadata": {},
   "outputs": [],
   "source": [
    "def Phone_1():\n",
    "    nonce_21 = get_random_bytes(16)\n",
    "    m21 = aenc(nonce_21, pk_Server)\n",
    "    m21_sig = sign_message(m21, Phone.private_sig_key)\n",
    "    return m21, m21_sig, nonce_21"
   ]
  },
  {
   "cell_type": "code",
   "execution_count": 117,
   "id": "8acbf38d-e9bd-4fae-a3c4-4e862715d188",
   "metadata": {},
   "outputs": [],
   "source": [
    "def Phone_2(m22, m22_sig, NONCE_21):\n",
    "    if(verify_signature(m22, m22_sig, spk_Server)):\n",
    "        msg = adec(m22, Phone.private_key)\n",
    "        nonce_21 = msg[:len(msg) // 2]\n",
    "        nonce_22 = msg[len(msg) // 2:]\n",
    "        if(NONCE_21 == nonce_21):\n",
    "            global phone_accepts\n",
    "            phone_accepts = True\n",
    "            m23 = aenc(nonce_22, pk_Server)\n",
    "            m23_sig = sign_message(m23, Phone.private_sig_key)\n",
    "            global phone_terminates\n",
    "            phone_terminates = True\n",
    "            return m23, m23_sig\n",
    "        else: \n",
    "            print(\"Phone does not accept\")"
   ]
  },
  {
   "cell_type": "code",
   "execution_count": 118,
   "id": "ea006b08-e0b9-4103-9b74-fc57afe2d393",
   "metadata": {},
   "outputs": [],
   "source": [
    "def Server_1(m21, m21_sig):\n",
    "    if(verify_signature(m21, m21_sig, spk_Phone)):\n",
    "        nonce_21 = adec(m21, Server.private_key)\n",
    "        nonce_22 = get_random_bytes(16)\n",
    "        global server_accepts_phone\n",
    "        server_accepts_phone = True\n",
    "        m22 = aenc(nonce_21 + nonce_22, pk_Phone)\n",
    "        m22_sig = sign_message(m22, Server.private_sig_key)\n",
    "        return m22, m22_sig, nonce_22"
   ]
  },
  {
   "cell_type": "code",
   "execution_count": 119,
   "id": "87cf2045-655e-419f-98c4-40b5c34e2a5f",
   "metadata": {},
   "outputs": [],
   "source": [
    "def Server_2(m23, m23_sig, NONCE_22):\n",
    "    if(verify_signature(m23, m23_sig, spk_Phone)):\n",
    "        nonce_22 = adec(m23, Server.private_key)\n",
    "        if(NONCE_22 == nonce_22):\n",
    "            global server_terminates_phone\n",
    "            server_terminates_phone = True\n",
    "            nonce_11 = get_random_bytes(16)\n",
    "            control_data = get_random_bytes(16)\n",
    "            m11_1, nonce_aes_1 = senc(nonce_11, Server.secret_key_IoT)\n",
    "            m11_2, nonce_aes_2 = senc(control_data, Server.secret_key_IoT)\n",
    "            h11_1 = calculate_hash(m11_1, Server.secret_key_IoT)\n",
    "            h11_2 = calculate_hash(m11_2, Server.secret_key_IoT)\n",
    "            return m11_1, m11_2, h11_1, h11_2, nonce_11, nonce_aes_1, nonce_aes_2\n",
    "        else:\n",
    "            print(\"Server does not accept\")"
   ]
  },
  {
   "cell_type": "code",
   "execution_count": 122,
   "id": "e0a9a355-0340-4796-841b-36d8eb325c62",
   "metadata": {},
   "outputs": [],
   "source": [
    "def IoT_Device_1(m11_1, m11_2, h11_1, h11_2, nonce_aes_1, nonce_aes_2):\n",
    "    if(calculate_hash(m11_1, IoT_Device.secret_key_IoT) == h11_1 and calculate_hash(m11_2, IoT_Device.secret_key_IoT) == h11_2):\n",
    "        nonce_11 = sdec(m11_1, nonce_aes_1)\n",
    "        control_data = sdec(m11_2, nonce_aes_2)\n",
    "    else:\n",
    "        print(\"IoT does not accept\")"
   ]
  },
  {
   "cell_type": "code",
   "execution_count": 123,
   "id": "f39375aa-5f76-4fd6-9273-95d8f0aeffc3",
   "metadata": {},
   "outputs": [
    {
     "name": "stdout",
     "output_type": "stream",
     "text": [
      "server_accepts =  True\n",
      "phone_accepts =  True\n",
      "phone_terminates =  True\n"
     ]
    },
    {
     "ename": "NameError",
     "evalue": "name 'IoT' is not defined",
     "output_type": "error",
     "traceback": [
      "\u001b[0;31m---------------------------------------------------------------------------\u001b[0m",
      "\u001b[0;31mNameError\u001b[0m                                 Traceback (most recent call last)",
      "Cell \u001b[0;32mIn[123], line 12\u001b[0m\n\u001b[1;32m      8\u001b[0m \u001b[38;5;28mprint\u001b[39m(\u001b[38;5;124m\"\u001b[39m\u001b[38;5;124mphone_terminates = \u001b[39m\u001b[38;5;124m\"\u001b[39m, phone_terminates)\n\u001b[1;32m     10\u001b[0m m11_1, m11_2, h11_1, h11_2, NONCE_11, nonce_aes_1, nonce_aes_2 \u001b[38;5;241m=\u001b[39m Server_2(m23, m23_sig, NONCE_22)\n\u001b[0;32m---> 12\u001b[0m \u001b[43mIoT_1\u001b[49m\u001b[43m(\u001b[49m\u001b[43mm11_1\u001b[49m\u001b[43m,\u001b[49m\u001b[43m \u001b[49m\u001b[43mm11_2\u001b[49m\u001b[43m,\u001b[49m\u001b[43m \u001b[49m\u001b[43mh11_1\u001b[49m\u001b[43m,\u001b[49m\u001b[43m \u001b[49m\u001b[43mh11_2\u001b[49m\u001b[43m,\u001b[49m\u001b[43m \u001b[49m\u001b[43mnonce_aes_1\u001b[49m\u001b[43m,\u001b[49m\u001b[43m \u001b[49m\u001b[43mnonce_aes_2\u001b[49m\u001b[43m)\u001b[49m\n",
      "Cell \u001b[0;32mIn[98], line 2\u001b[0m, in \u001b[0;36mIoT_1\u001b[0;34m(m11_1, m11_2, h11_1, h11_2, nonce_aes_1, nonce_aes_2)\u001b[0m\n\u001b[1;32m      1\u001b[0m \u001b[38;5;28;01mdef\u001b[39;00m \u001b[38;5;21mIoT_1\u001b[39m(m11_1, m11_2, h11_1, h11_2, nonce_aes_1, nonce_aes_2):\n\u001b[0;32m----> 2\u001b[0m     \u001b[38;5;28;01mif\u001b[39;00m(calculate_hash(m11_1, IoT_Device\u001b[38;5;241m.\u001b[39msecret_key_IoT) \u001b[38;5;241m==\u001b[39m h11_1 \u001b[38;5;129;01mand\u001b[39;00m calculate_hash(m11_2, \u001b[43mIoT\u001b[49m\u001b[38;5;241m.\u001b[39msecret_key_IoT) \u001b[38;5;241m==\u001b[39m h11_2):\n\u001b[1;32m      3\u001b[0m         nonce_11 \u001b[38;5;241m=\u001b[39m sdec(m11_1, nonce_aes_1)\n\u001b[1;32m      4\u001b[0m         control_data \u001b[38;5;241m=\u001b[39m sdec(m11_2, nonce_aes_2)\n",
      "\u001b[0;31mNameError\u001b[0m: name 'IoT' is not defined"
     ]
    }
   ],
   "source": [
    "m21, m21_sig, NONCE_21 = Phone_1()\n",
    "\n",
    "m22, m22_sig, NONCE_22 = Server_1(m21, m21_sig)\n",
    "print(\"server_accepts = \", server_accepts_phone)\n",
    "\n",
    "m23, m23_sig = Phone_2(m22, m22_sig, NONCE_21)\n",
    "print(\"phone_accepts = \", phone_accepts)\n",
    "print(\"phone_terminates = \", phone_terminates)\n",
    "\n",
    "m11_1, m11_2, h11_1, h11_2, NONCE_11, nonce_aes_1, nonce_aes_2 = Server_2(m23, m23_sig, NONCE_22)\n",
    "\n",
    "IoT_1(m11_1, m11_2, h11_1, h11_2, nonce_aes_1, nonce_aes_2)\n"
   ]
  },
  {
   "cell_type": "markdown",
   "id": "d121e218-da5c-4893-8608-61d1d745f480",
   "metadata": {},
   "source": [
    "<br><br>"
   ]
  },
  {
   "cell_type": "code",
   "execution_count": 69,
   "id": "0566ce6d-ab2d-47df-af19-e93fe2c0cba7",
   "metadata": {},
   "outputs": [
    {
     "name": "stdout",
     "output_type": "stream",
     "text": [
      "Verification result: True\n"
     ]
    }
   ],
   "source": [
    "message = \"Hello World!\"\n",
    "signature = sign_message(message, Phone.private_sig_key)\n",
    "print(\"Verification result:\", verify_signature(message, signature, Phone.public_sig_key))"
   ]
  },
  {
   "cell_type": "code",
   "execution_count": 54,
   "id": "092c9445-ef6d-4da1-9258-1282b436fa9e",
   "metadata": {},
   "outputs": [
    {
     "name": "stdout",
     "output_type": "stream",
     "text": [
      "Ciphertext: b'c!\\x0cG\\xc9\\xa4\"l2<\\xca\\xa3\\\\'\n",
      "Decrypted message: Hello, world!\n"
     ]
    }
   ],
   "source": [
    "key = get_random_bytes(16)  # 128-bit key for AES-128\n",
    "message = \"Hello, world!\"\n",
    "ciphertext, nonce = senc(message, key)\n",
    "print(\"Ciphertext:\", ciphertext)\n",
    "\n",
    "decrypted_message = sdec(ciphertext, key, nonce)\n",
    "print(\"Decrypted message:\", decrypted_message)"
   ]
  },
  {
   "cell_type": "code",
   "execution_count": 75,
   "id": "8e090dc9-baad-48c5-8581-2739184f86ff",
   "metadata": {},
   "outputs": [
    {
     "name": "stdout",
     "output_type": "stream",
     "text": [
      "b'\\xa8YK\\xcfL\\xe9?D>\\xaa\\xe7\\x89-\\xd2\\x0f\\x1d\\x1f\\xf8\\xf1\\x81\\x8co\\xa6\\r7\\xa5\\xc0h\\xf0\\xb9\\x1e\\x83Q\\xce\\x0f\\x11\\x9d\\xd1\\xc2d\\x07\\x89\\x01\\xc5\\xb4\\xfb\\xf1\\xd9\\x8b\\xf7psM\\x16\\xeaD\\x1c\\xeb\\xf1\\x15bS:Vtqa\\xd3\\xe6\\xa7z\\xea\\xf65\\xdd\\xc7\\xd7\\xc7\\x97\\x01I\\x1f\\xaf`\\xc9Z\\xbe\\xd8q\\x01\\xec^\\xf2W\\x14h\\xa3-\\xba\\x86\\x8f\\x08J\\xe4\\x00\\x8b\\xd6W\\x98\\xebZ\\x81\\r\\x88\\x91\\x84\\x14\\xf3\\x1a=r\\xael\\xccz-\\x12;'\n",
      "Hello, world!\n"
     ]
    }
   ],
   "source": [
    "m = aenc(message, Phone.public_key)\n",
    "print(m)\n",
    "print(adec(m, Phone.private_key))"
   ]
  },
  {
   "cell_type": "code",
   "execution_count": null,
   "id": "83980e59-a6dd-43be-9c89-2710949a0b84",
   "metadata": {},
   "outputs": [],
   "source": []
  }
 ],
 "metadata": {
  "kernelspec": {
   "display_name": "Python 3 (ipykernel)",
   "language": "python",
   "name": "python3"
  },
  "language_info": {
   "codemirror_mode": {
    "name": "ipython",
    "version": 3
   },
   "file_extension": ".py",
   "mimetype": "text/x-python",
   "name": "python",
   "nbconvert_exporter": "python",
   "pygments_lexer": "ipython3",
   "version": "3.11.2"
  }
 },
 "nbformat": 4,
 "nbformat_minor": 5
}
