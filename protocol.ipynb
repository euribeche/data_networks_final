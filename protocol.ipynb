{
 "cells": [
  {
   "cell_type": "code",
   "execution_count": null,
   "id": "dd6e9c64-39e6-4361-8163-a14f01ae3838",
   "metadata": {},
   "outputs": [],
   "source": [
    "pip install pycryptodome"
   ]
  },
  {
   "cell_type": "code",
   "execution_count": 64,
   "id": "02648efa-50b6-4268-9506-662af0546e06",
   "metadata": {},
   "outputs": [],
   "source": [
    "from Crypto.Cipher import AES, PKCS1_OAEP\n",
    "from Crypto.PublicKey import RSA\n",
    "from Crypto.Signature import pkcs1_15\n",
    "from Crypto.Hash import HMAC, SHA256\n",
    "from Crypto.Random import get_random_bytes"
   ]
  },
  {
   "cell_type": "markdown",
   "id": "f18e1314-83a2-4c53-8a86-e80e97207254",
   "metadata": {},
   "source": [
    "---"
   ]
  },
  {
   "cell_type": "markdown",
   "id": "988b6673-de03-4601-ae4f-eb9fd844d660",
   "metadata": {},
   "source": [
    "Digtal Signatures and verification"
   ]
  },
  {
   "cell_type": "code",
   "execution_count": 65,
   "id": "5ca0310e-293b-4e38-82ef-b2845aa6f7a0",
   "metadata": {},
   "outputs": [],
   "source": [
    "def sign_message(message, private_sig_key):\n",
    "    h = SHA256.new(message)\n",
    "    return pkcs1_15.new(private_sig_key).sign(h)"
   ]
  },
  {
   "cell_type": "code",
   "execution_count": 66,
   "id": "f1b2ba79-1cb1-4772-b8be-3eacfb9b3b31",
   "metadata": {},
   "outputs": [],
   "source": [
    "def verify_signature(message, signature, public_sig_key):\n",
    "    key = RSA.import_key(public_sig_key)\n",
    "    h = SHA256.new(message)\n",
    "    try:\n",
    "        pkcs1_15.new(key).verify(h, signature)\n",
    "        return True\n",
    "    except (ValueError, TypeError):\n",
    "        return False"
   ]
  },
  {
   "cell_type": "markdown",
   "id": "419cda34-42fb-438c-a7f5-c8cfdfba0042",
   "metadata": {},
   "source": [
    "Asymmetric Encryption using RSA key pairs"
   ]
  },
  {
   "cell_type": "code",
   "execution_count": 67,
   "id": "9814be83-9ac3-4a6e-8303-45ea044c18ca",
   "metadata": {},
   "outputs": [],
   "source": [
    "def aenc(message, public_key):\n",
    "    key = RSA.import_key(public_key)\n",
    "    cipher = PKCS1_OAEP.new(key)\n",
    "    return cipher.encrypt(message)"
   ]
  },
  {
   "cell_type": "code",
   "execution_count": 68,
   "id": "6f0ab022-220d-4c29-9376-bb1e136319cf",
   "metadata": {},
   "outputs": [],
   "source": [
    "def adec(ciphertext, private_key):\n",
    "    decipher = PKCS1_OAEP.new(private_key)\n",
    "    plaintext = decipher.decrypt(ciphertext)\n",
    "    return plaintext"
   ]
  },
  {
   "cell_type": "markdown",
   "id": "f4a1cafb-9e45-472e-94b3-3d55ba6452c5",
   "metadata": {},
   "source": [
    "Symmetric Encryption using AES"
   ]
  },
  {
   "cell_type": "code",
   "execution_count": 69,
   "id": "81280d43-da8d-44d2-a24f-fb0fa4cf2721",
   "metadata": {},
   "outputs": [],
   "source": [
    "def senc(message, session_key):\n",
    "    cipher_CTR = AES.new(session_key, AES.MODE_CTR)\n",
    "    ciphertext = cipher_CTR.encrypt(message)\n",
    "    return ciphertext, cipher_CTR.nonce"
   ]
  },
  {
   "cell_type": "code",
   "execution_count": 70,
   "id": "d853168a-2f6c-42da-bb19-418af541dead",
   "metadata": {},
   "outputs": [],
   "source": [
    "def sdec(ciphertext, session_key, nonce):\n",
    "    decipher_CTR = AES.new(session_key, AES.MODE_CTR, nonce=nonce)\n",
    "    plaintext = decipher_CTR.decrypt(ciphertext)\n",
    "    return plaintext"
   ]
  },
  {
   "cell_type": "markdown",
   "id": "7093e76a-68e7-4abf-9cb4-cd12308ba5b5",
   "metadata": {},
   "source": [
    "Hashes for data integrity"
   ]
  },
  {
   "cell_type": "code",
   "execution_count": 71,
   "id": "d08b485d-7e2a-49e1-9061-f3684269538b",
   "metadata": {},
   "outputs": [],
   "source": [
    "def calculate_hash(message, key):\n",
    "    h = HMAC.new(key, digestmod=SHA256)\n",
    "    h.update(message)\n",
    "    return h.hexdigest()"
   ]
  },
  {
   "cell_type": "markdown",
   "id": "48f256ac-495c-42a2-a337-61f75c8d0cfd",
   "metadata": {},
   "source": [
    "---"
   ]
  },
  {
   "cell_type": "code",
   "execution_count": 72,
   "id": "e82d1420-a33e-4b9e-8fa4-f1a4d80bb1e1",
   "metadata": {},
   "outputs": [],
   "source": [
    "class Phone:\n",
    "    private_sig_key = RSA.generate(1024)\n",
    "    public_sig_key = private_sig_key.public_key().export_key()\n",
    "    private_key = RSA.generate(1024)\n",
    "    public_key = private_key.public_key().export_key()"
   ]
  },
  {
   "cell_type": "code",
   "execution_count": 73,
   "id": "5f815e90-83d5-4206-a32a-fe594fd06ad0",
   "metadata": {},
   "outputs": [],
   "source": [
    "class Server:\n",
    "    private_sig_key = RSA.generate(1024)\n",
    "    public_sig_key = private_sig_key.public_key().export_key()\n",
    "    private_key = RSA.generate(1024)\n",
    "    public_key = private_key.public_key().export_key()\n",
    "\n",
    "    @classmethod\n",
    "    def set_secret_key_IoT(cls, value):\n",
    "        cls.secret_key_IoT = value"
   ]
  },
  {
   "cell_type": "code",
   "execution_count": 74,
   "id": "b9cfec26-5eef-4f17-9946-dd76c9d3ca51",
   "metadata": {},
   "outputs": [],
   "source": [
    "class IoT_Device:\n",
    "    private_sig_key = RSA.generate(1024)\n",
    "    public_sig_key = private_sig_key.public_key().export_key()\n",
    "    private_key = RSA.generate(1024)\n",
    "    public_key = private_key.public_key().export_key()\n",
    "\n",
    "    @classmethod\n",
    "    def set_secret_key_IoT(cls, value):\n",
    "        cls.secret_key_IoT = value"
   ]
  },
  {
   "cell_type": "code",
   "execution_count": 75,
   "id": "577829b1-e465-4a4d-9a92-8890bcef8e93",
   "metadata": {},
   "outputs": [],
   "source": [
    "preshared_key = get_random_bytes(16) # preshared key\n",
    "IoT_Device.set_secret_key_IoT(preshared_key)\n",
    "Server.set_secret_key_IoT(preshared_key)"
   ]
  },
  {
   "cell_type": "markdown",
   "id": "4326ff50-1356-4770-a886-32b8fbfe5431",
   "metadata": {},
   "source": [
    "---"
   ]
  },
  {
   "cell_type": "code",
   "execution_count": 76,
   "id": "141dc02d-fba0-48dc-b803-9d1424707ed2",
   "metadata": {},
   "outputs": [],
   "source": [
    "server_accepts_phone = False\n",
    "server_terminates_phone = False\n",
    "server_accepts_iot_device = False\n",
    "server_terminates_iot_device = False\n",
    "phone_accepts = False\n",
    "phone_terminates = False\n",
    "iot_device_accepts = False\n",
    "iot_device_terminates = False"
   ]
  },
  {
   "cell_type": "markdown",
   "id": "d7689f3c-51f4-4289-84a9-f6706cc945ad",
   "metadata": {},
   "source": [
    "All public keys are made accessible to everyone "
   ]
  },
  {
   "cell_type": "code",
   "execution_count": 77,
   "id": "b5a6166d-1234-4ab9-8dca-24d4a5def7b4",
   "metadata": {},
   "outputs": [],
   "source": [
    "pk_Phone = Phone.public_key\n",
    "spk_Phone = Phone.public_sig_key\n",
    "pk_Server = Server.public_key\n",
    "spk_Server = Server.public_sig_key"
   ]
  },
  {
   "cell_type": "markdown",
   "id": "0c48e3df-0886-4d10-a909-59bd763822f0",
   "metadata": {},
   "source": [
    "Phone initiates needham protocol with the server"
   ]
  },
  {
   "cell_type": "code",
   "execution_count": 78,
   "id": "a8af24db-2f7c-467c-8ce6-9fb4ac4824c4",
   "metadata": {},
   "outputs": [],
   "source": [
    "def Phone_1():\n",
    "    nonce_21 = get_random_bytes(16)\n",
    "    m21 = aenc(nonce_21, pk_Server)\n",
    "    m21_sig = sign_message(m21, Phone.private_sig_key)\n",
    "    return m21, m21_sig, nonce_21"
   ]
  },
  {
   "cell_type": "markdown",
   "id": "26ee2dc5-5cf8-4d53-8fd2-3d82b9082a7c",
   "metadata": {},
   "source": [
    "The server receives the nonce, generates a second, and sends it back to the Phone."
   ]
  },
  {
   "cell_type": "code",
   "execution_count": 80,
   "id": "ea006b08-e0b9-4103-9b74-fc57afe2d393",
   "metadata": {},
   "outputs": [],
   "source": [
    "def Server_1(m21, m21_sig):\n",
    "    if(verify_signature(m21, m21_sig, spk_Phone)):\n",
    "        nonce_21 = adec(m21, Server.private_key)\n",
    "        nonce_22 = get_random_bytes(16)\n",
    "        global server_accepts_phone\n",
    "        server_accepts_phone = True\n",
    "        m22 = aenc(nonce_21 + nonce_22, pk_Phone)\n",
    "        m22_sig = sign_message(m22, Server.private_sig_key)\n",
    "        return m22, m22_sig, nonce_22"
   ]
  },
  {
   "cell_type": "markdown",
   "id": "91814fad-5f61-4a9f-9016-5b5d2dd09779",
   "metadata": {},
   "source": [
    "The phone tests the sent nonces. If the original nonce matches, then the needham protocol succeeds."
   ]
  },
  {
   "cell_type": "code",
   "execution_count": 79,
   "id": "8acbf38d-e9bd-4fae-a3c4-4e862715d188",
   "metadata": {},
   "outputs": [],
   "source": [
    "def Phone_2(m22, m22_sig, NONCE_21):\n",
    "    if(verify_signature(m22, m22_sig, spk_Server)):\n",
    "        msg = adec(m22, Phone.private_key)\n",
    "        nonce_21 = msg[:len(msg) // 2]\n",
    "        nonce_22 = msg[len(msg) // 2:]\n",
    "        if(NONCE_21 == nonce_21):\n",
    "            global phone_accepts\n",
    "            phone_accepts = True\n",
    "            m23 = aenc(nonce_22, pk_Server)\n",
    "            m23_sig = sign_message(m23, Phone.private_sig_key)\n",
    "            global phone_terminates\n",
    "            phone_terminates = True\n",
    "            return m23, m23_sig\n",
    "        else: \n",
    "            print(\"Phone does not accept\")"
   ]
  },
  {
   "cell_type": "markdown",
   "id": "bd23122a-4fb3-4b15-b525-b6ec69597b58",
   "metadata": {},
   "source": [
    "The server then completes it's half of the needham protocol and establishes a connection with the IoT device."
   ]
  },
  {
   "cell_type": "code",
   "execution_count": 81,
   "id": "87cf2045-655e-419f-98c4-40b5c34e2a5f",
   "metadata": {},
   "outputs": [],
   "source": [
    "def Server_2(m23, m23_sig, NONCE_22):\n",
    "    if(verify_signature(m23, m23_sig, spk_Phone)):\n",
    "        nonce_22 = adec(m23, Server.private_key)\n",
    "        if(NONCE_22 == nonce_22):\n",
    "            global server_terminates_phone\n",
    "            server_terminates_phone = True\n",
    "            nonce_11 = get_random_bytes(16)\n",
    "            control_data = get_random_bytes(16)\n",
    "            m11_1, nonce_aes_1 = senc(nonce_11, Server.secret_key_IoT)\n",
    "            m11_2, nonce_aes_2 = senc(control_data, Server.secret_key_IoT)\n",
    "            h11_1 = calculate_hash(m11_1, Server.secret_key_IoT)\n",
    "            h11_2 = calculate_hash(m11_2, Server.secret_key_IoT)\n",
    "            return m11_1, m11_2, h11_1, h11_2, nonce_11, nonce_aes_1, nonce_aes_2\n",
    "        else:\n",
    "            print(\"Server does not accept\")"
   ]
  },
  {
   "cell_type": "markdown",
   "id": "0d0cc4fc-3532-460b-97da-116f597925cf",
   "metadata": {},
   "source": [
    "Using Hashes to complete the needham protocol, the server and the IoT device send each other control and output data."
   ]
  },
  {
   "cell_type": "code",
   "execution_count": 83,
   "id": "e0a9a355-0340-4796-841b-36d8eb325c62",
   "metadata": {},
   "outputs": [],
   "source": [
    "def IoT_Device_1(m11_1, m11_2, h11_1, h11_2, nonce_aes_1, nonce_aes_2):\n",
    "    if(calculate_hash(m11_1, IoT_Device.secret_key_IoT) == h11_1 and calculate_hash(m11_2, IoT_Device.secret_key_IoT) == h11_2):\n",
    "        nonce_11 = sdec(m11_1, IoT_Device.secret_key_IoT, nonce_aes_1)\n",
    "        control_data = sdec(m11_2, IoT_Device.secret_key_IoT, nonce_aes_2)\n",
    "        global iot_device_accepts\n",
    "        iot_device_accepts = True\n",
    "        nonce_12 = get_random_bytes(16)\n",
    "        output_data = get_random_bytes(16)\n",
    "        m12_1, nonce_aes_3 = senc(nonce_11 + nonce_12, IoT_Device.secret_key_IoT)\n",
    "        m12_2, nonce_aes_4 = senc(output_data, IoT_Device.secret_key_IoT)\n",
    "        h12_1 = calculate_hash(m12_1, IoT_Device.secret_key_IoT)\n",
    "        h12_2 = calculate_hash(m12_2, IoT_Device.secret_key_IoT)\n",
    "        global server_terminates_iot_device\n",
    "        server_terminates_iot_device = True\n",
    "        return m12_1, m12_2, h12_1, h12_2, nonce_12, nonce_aes_3, nonce_aes_4\n",
    "    else:\n",
    "        print(\"IoT does not accept\")"
   ]
  },
  {
   "cell_type": "code",
   "execution_count": 82,
   "id": "e215d157-af20-4f66-bceb-482063f63063",
   "metadata": {},
   "outputs": [],
   "source": [
    "def Server_3(m12_1, m12_2, h12_1, h12_2, NONCE_11, nonce_aes_3, nonce_aes_4):\n",
    "    if(calculate_hash(m12_1, Server.secret_key_IoT) == h12_1 and calculate_hash(m12_2, Server.secret_key_IoT) == h12_2):\n",
    "        msg = sdec(m12_1, Server.secret_key_IoT, nonce_aes_3)\n",
    "        nonce_11 = msg[:len(msg) // 2]\n",
    "        nonce_12 = msg[len(msg) // 2:]\n",
    "        if(NONCE_11 == nonce_11):\n",
    "            global server_accepts_iot_device\n",
    "            server_accepts_iot_device = True\n",
    "            m13 , nonce_aes_5= senc(nonce_12, Server.secret_key_IoT)\n",
    "            h13 = calculate_hash(m13, Server.secret_key_IoT)\n",
    "            global server_terminates_iot_device\n",
    "            server_terminates_iot_device = True\n",
    "            return m13, h13, nonce_aes_5\n",
    "    else:\n",
    "        print(\"Server does not accept\")"
   ]
  },
  {
   "cell_type": "code",
   "execution_count": 84,
   "id": "85368216-d419-4ade-9281-c860ccda2943",
   "metadata": {},
   "outputs": [],
   "source": [
    "def IoT_Device_2(m13, h13, nonce_aes_5, NONCE_12):\n",
    "    if(calculate_hash(m13, IoT_Device.secret_key_IoT) == h13):\n",
    "        nonce_12 = sdec(m13, IoT_Device.secret_key_IoT, nonce_aes_5)\n",
    "        if(NONCE_12 == nonce_12):\n",
    "            global iot_device_terminates\n",
    "            iot_device_terminates = True\n",
    "    else:\n",
    "        print(\"IoT does not accept\")"
   ]
  },
  {
   "cell_type": "code",
   "execution_count": 85,
   "id": "f39375aa-5f76-4fd6-9273-95d8f0aeffc3",
   "metadata": {},
   "outputs": [
    {
     "name": "stdout",
     "output_type": "stream",
     "text": [
      "server_accepts =  True\n",
      "phone_accepts =  True\n",
      "phone_terminates =  True\n",
      "iot_device_accepts =  True\n",
      "server_accepts_iot_device =  True\n",
      "server_terminates_iot_device =  True\n",
      "iot_device_terminates =  True\n"
     ]
    }
   ],
   "source": [
    "m21, m21_sig, NONCE_21 = Phone_1()\n",
    "\n",
    "m22, m22_sig, NONCE_22 = Server_1(m21, m21_sig)\n",
    "print(\"server_accepts = \", server_accepts_phone)\n",
    "\n",
    "m23, m23_sig = Phone_2(m22, m22_sig, NONCE_21)\n",
    "print(\"phone_accepts = \", phone_accepts)\n",
    "print(\"phone_terminates = \", phone_terminates)\n",
    "\n",
    "m11_1, m11_2, h11_1, h11_2, NONCE_11, nonce_aes_1, nonce_aes_2 = Server_2(m23, m23_sig, NONCE_22)\n",
    "\n",
    "m12_1, m12_2, h12_1, h12_2, NONCE_12, nonce_aes_3, nonce_aes_4 = IoT_Device_1(m11_1, m11_2, h11_1, h11_2, nonce_aes_1, nonce_aes_2)\n",
    "print(\"iot_device_accepts = \", iot_device_accepts)\n",
    "\n",
    "m13, h13, nonce_aes_5 = Server_3(m12_1, m12_2, h12_1, h12_2, NONCE_11, nonce_aes_3, nonce_aes_4)\n",
    "print(\"server_accepts_iot_device = \", server_accepts_iot_device)\n",
    "print(\"server_terminates_iot_device = \", server_terminates_iot_device)\n",
    "\n",
    "IoT_Device_2(m13, h13, nonce_aes_5, NONCE_12)\n",
    "print(\"iot_device_terminates = \", iot_device_terminates)"
   ]
  },
  {
   "cell_type": "code",
   "execution_count": null,
   "id": "cf595c7b-2c94-4f39-8864-81bfa5d53413",
   "metadata": {},
   "outputs": [],
   "source": []
  }
 ],
 "metadata": {
  "kernelspec": {
   "display_name": "Python 3 (ipykernel)",
   "language": "python",
   "name": "python3"
  },
  "language_info": {
   "codemirror_mode": {
    "name": "ipython",
    "version": 3
   },
   "file_extension": ".py",
   "mimetype": "text/x-python",
   "name": "python",
   "nbconvert_exporter": "python",
   "pygments_lexer": "ipython3",
   "version": "3.11.2"
  }
 },
 "nbformat": 4,
 "nbformat_minor": 5
}
